{
 "cells": [
  {
   "cell_type": "markdown",
   "metadata": {},
   "source": [
    "<img style=\"float: left;\" src=\"earth-lab-logo-rgb.png\" width=\"150\" height=\"150\" />\n",
    "\n",
    "# Earth Analytics Education - Bootcamp Course Fall 2020"
   ]
  },
  {
   "cell_type": "markdown",
   "metadata": {},
   "source": [
    "## Important  - Assignment Guidelines\n",
    "\n",
    "1. Before you submit your assignment to GitHub, make sure to run the entire notebook with a fresh kernel. To do this first, **restart the kernel** (in the menubar, select Kernel$\\rightarrow$Restart & Run All)\n",
    "2. Always replace the `raise NotImplementedError()` code with your code that addresses the activity challenge. If you don't replace that code, your notebook will not run.\n",
    "\n",
    "```\n",
    "# YOUR CODE HERE\n",
    "raise NotImplementedError()\n",
    "```\n",
    "\n",
    "3. Any open ended questions will have a \"YOUR ANSWER HERE\" within a markdown cell. Replace that text with your answer also formatted using Markdown.\n",
    "4. **DO NOT RENAME THIS NOTEBOOK File!** If the file name changes, the autograder will not grade your assignment properly.\n",
    "6. When you create a figure, comment out `plt.show()` to ensure the autograder can grade your plots. For figure cells, DO NOT DELETE the code that says `DO NOT REMOVE LINE BELOW`.\n",
    "\n",
    "```\n",
    "### DO NOT REMOVE LINE BELOW ###\n",
    "student_plot1_ax = nb.convert_axes(plt)\n",
    "```\n",
    "\n",
    "* Only include the package imports, code, and outputs that are required to run your homework assignment.\n",
    "* Be sure that your code can be run on any operating system. This means that:\n",
    "   1. the data should be downloaded in the notebook to ensure it's reproducible\n",
    "   2. all paths should be created dynamically using the `os.path.join`\n",
    "\n",
    "## Follow to PEP 8 Syntax Guidelines & Documentation\n",
    "\n",
    "* Run the `autopep8` tool on all cells prior to submitting (HINT: hit shift + the tool to run it on all cells at once!\n",
    "* Use clear and expressive names for variables. \n",
    "* Organize your code to support readability.\n",
    "* Check for code line length\n",
    "* Use comments and white space sparingly where it is needed\n",
    "* Make sure all python imports are at the top of your notebook and follow PEP 8 order conventions\n",
    "* Spell check your Notebook before submitting it.\n",
    "\n",
    "For all of the plots below, be sure to do the following:\n",
    "\n",
    "* Make sure each plot has a clear TITLE and, where appropriate, label the x and y axes. Be sure to include UNITS in your labels.\n"
   ]
  },
  {
   "cell_type": "markdown",
   "metadata": {},
   "source": [
    "### Add Your Name Below \n",
    "**Your Name:**"
   ]
  },
  {
   "cell_type": "markdown",
   "metadata": {},
   "source": [
    "<img style=\"float: left;\" src=\"colored-bar.png\"/>"
   ]
  },
  {
   "cell_type": "markdown",
   "metadata": {},
   "source": [
    "---"
   ]
  },
  {
   "cell_type": "markdown",
   "metadata": {
    "deletable": false,
    "editable": false,
    "nbgrader": {
     "cell_type": "markdown",
     "checksum": "c2c274f0100abd4f368baea0d956fef5",
     "grade": false,
     "grade_id": "instructions",
     "locked": true,
     "schema_version": 3,
     "solution": false,
     "task": false
    }
   },
   "source": [
    " ## Final Assignment Template - Earth Analytics Bootcamp\n",
    " \n",
    " The assignment repo for this week contains a `README.md` file with \n",
    " instructions to complete your final assignment. Follow those \n",
    " instructions closely!"
   ]
  },
  {
   "cell_type": "code",
   "execution_count": null,
   "metadata": {
    "deletable": false,
    "editable": false,
    "hideCode": false,
    "hidePrompt": false,
    "nbgrader": {
     "cell_type": "code",
     "checksum": "ca210d8d4dad010cde71631ea62c4887",
     "grade": true,
     "grade_id": "core-imports",
     "locked": true,
     "points": 0,
     "schema_version": 3,
     "solution": false,
     "task": false
    }
   },
   "outputs": [],
   "source": [
    "# Core imports needed for grading - DO NOT MODIFY THIS CELL\n",
    "import matplotcheck.notebook as nb\n",
    "from matplotcheck.base import PlotTester\n",
    "import matplotcheck.autograde as ag\n",
    "import numpy as np\n",
    "# We are adding this for you as there is a bug in hydrofunctions that\n",
    "# Turns off plotting\n",
    "%matplotlib inline\n",
    "\n",
    "# IMPORTANT: Be sure to set your working directory to `earth-analytics/data`\n",
    "\n",
    "# Add cells below to import packages, get data and set your working dir"
   ]
  },
  {
   "cell_type": "markdown",
   "metadata": {
    "deletable": false,
    "editable": false,
    "nbgrader": {
     "cell_type": "markdown",
     "checksum": "cf9496feeca42114ed95b9901436df12",
     "grade": false,
     "grade_id": "define-functions",
     "locked": true,
     "points": 10,
     "schema_version": 3,
     "solution": false,
     "task": true
    }
   },
   "source": [
    "## Define Function 1 - For Figure 1 (10 points)\n",
    "\n",
    "Create a function that opens up a single `.csv` file containing precipitation data  required  for figure 1\n",
    "* It should then  subset the data to the year range 1989-2018, summarize the data to \n",
    "* Calculate monthly TOTAL (sum) precipitation \n",
    "* To simplify your code below, add a new column to your data with the site name \n",
    "    * (sf or boulder derived from the file name) "
   ]
  },
  {
   "cell_type": "code",
   "execution_count": null,
   "metadata": {
    "deletable": false,
    "nbgrader": {
     "cell_type": "code",
     "checksum": "9424ae5473ef0dc1b29595aa1bbc45ce",
     "grade": false,
     "grade_id": "precip-data-function",
     "locked": false,
     "schema_version": 3,
     "solution": true,
     "task": false
    }
   },
   "outputs": [],
   "source": [
    "# Define your function here using a numpy style doc-string\n",
    "def open_df_daily_to_monthly(data_path):\n",
    "    # YOUR CODE HERE\n",
    "    raise NotImplementedError()"
   ]
  },
  {
   "cell_type": "markdown",
   "metadata": {
    "deletable": false,
    "editable": false,
    "nbgrader": {
     "cell_type": "markdown",
     "checksum": "0fcbf6a12560ce88a4e9ec1c8024472b",
     "grade": false,
     "grade_id": "function-2-points",
     "locked": true,
     "points": 10,
     "schema_version": 3,
     "solution": false,
     "task": true
    }
   },
   "source": [
    "## Define Function 2 - For Figure 2\n",
    "\n",
    "Create a function that takes in a NWIS site number (i.e. '06730500'), a start date, and an end date, and returns a dataframe with the information from the site, including the sites name, latitude, and longitude as columns added into the dataframe hydrofunctions returns.\n",
    "\n",
    "* Use `hf.get_nwis(params).json()` to get a response from the NWIS website\n",
    "* Use `hf.extract_nwis_df(response)` to get a dataframe from the NWIS response you got\n",
    "* Use `hf.get_nwis_property(response, property)` to get information about the site you're plotting. `\"siteName\"` will return the site's name, and `\"geoLocation\"` will return a dictionary containing the latitude and longitude. Make sure to add the name, latitude, and longitude as new columns in the dataframe for your output!"
   ]
  },
  {
   "cell_type": "code",
   "execution_count": null,
   "metadata": {
    "deletable": false,
    "nbgrader": {
     "cell_type": "code",
     "checksum": "a5180d78cc5f5013e5808ac4114a2bdf",
     "grade": false,
     "grade_id": "hydrofunctions-function",
     "locked": false,
     "schema_version": 3,
     "solution": true,
     "task": false
    }
   },
   "outputs": [],
   "source": [
    "# In this cell create a function to support figure one that opens\n",
    "# data using hydrofunctions and returns a dataframe  with\n",
    "# x,y location, site name and discharge data\n",
    "\n",
    "def create_df(site, start, end):\n",
    "    # YOUR CODE HERE\n",
    "    raise NotImplementedError()"
   ]
  },
  {
   "cell_type": "code",
   "execution_count": null,
   "metadata": {
    "deletable": false,
    "nbgrader": {
     "cell_type": "code",
     "checksum": "716aa1aef0d0c30dd7aab762cd67fa60",
     "grade": false,
     "grade_id": "plot-precip",
     "locked": false,
     "schema_version": 3,
     "solution": true,
     "task": false
    }
   },
   "outputs": [],
   "source": [
    "# In this cell place only the code to create the figure 1 plot.\n",
    "# Add cells above this cell to process your data. Add a markdown cell that describes\n",
    "# what the plots below show - be sure to include a header in your markdown cell\n",
    "# Remember that you will have a total of 12 values for the first subplot - one for each month.\n",
    "# The max precipitation value for Jan, Feb, March, and so on.\n",
    "# The second plot should have a single value for each year\n",
    "\n",
    "# YOUR CODE HERE\n",
    "raise NotImplementedError()\n",
    "\n",
    "### DO NOT REMOVE LINE BELOW ###\n",
    "boulder_san_fran_plot = nb.convert_axes(plt, which_axes=\"all\")"
   ]
  },
  {
   "cell_type": "code",
   "execution_count": null,
   "metadata": {
    "deletable": false,
    "editable": false,
    "nbgrader": {
     "cell_type": "code",
     "checksum": "eaae5119d58981cb68304810add8240f",
     "grade": true,
     "grade_id": "plot-precip-tests-1",
     "locked": true,
     "points": 0,
     "schema_version": 3,
     "solution": false,
     "task": false
    }
   },
   "outputs": [],
   "source": [
    "# DO NOT MODIFY THIS CELL\n",
    "# Make sure that the cell above this is the cell where you create your plot!"
   ]
  },
  {
   "cell_type": "code",
   "execution_count": null,
   "metadata": {
    "deletable": false,
    "editable": false,
    "nbgrader": {
     "cell_type": "code",
     "checksum": "fba7fa9aa42697676d42bd5cf4ede9f6",
     "grade": true,
     "grade_id": "plot-precip-tests-2",
     "locked": true,
     "points": 30,
     "schema_version": 3,
     "solution": false,
     "task": false
    }
   },
   "outputs": [],
   "source": [
    "# DO NOT MODIFY THIS CELL"
   ]
  },
  {
   "cell_type": "markdown",
   "metadata": {
    "deletable": false,
    "editable": false,
    "nbgrader": {
     "cell_type": "markdown",
     "checksum": "22aa85ba3cfd0cb615c6b0fa6514dfa6",
     "grade": false,
     "grade_id": "manual-grading-plot-1",
     "locked": true,
     "points": 20,
     "schema_version": 3,
     "solution": false,
     "task": true
    }
   },
   "source": [
    "### Manual Grade for Plot 1\n",
    "\n",
    "- Plots have appropriate titles\n",
    "- Plots have appropriate x and y labels\n",
    "- Each line is a unique color\n",
    "- Legend has appropriate key words and is displayed correctly"
   ]
  },
  {
   "cell_type": "markdown",
   "metadata": {
    "deletable": false,
    "editable": false,
    "nbgrader": {
     "cell_type": "markdown",
     "checksum": "420c3df02cb5dec42567ff6bca491cc0",
     "grade": false,
     "grade_id": "discharge-instructions",
     "locked": true,
     "schema_version": 3,
     "solution": false,
     "task": false
    }
   },
   "source": [
    "## Figure 2: Stream Discharge For 2013 Colorado Floods\n",
    "\n",
    "Create a figure containing stream discharge data for the time period:\n",
    "`start='1990-01-01', end='2018-12-31'` and for the sites\n",
    "\n",
    "`\"06730500\", \"09105000\", \"07106300\", \"07126390\"`. Automate your workflow\n",
    "using loops and a function which processes data for each site and adds the data to a DataFrame.\n",
    "Add as many cells as you want below to process your data.  But be sure to add your plot code to\n",
    "the cell that says \"Add Your Plot Code Here\"\n",
    "\n",
    "HINT: You can adjust the legend location and font size using:\n",
    "`plt.legend(bbox_to_anchor=(1.05, 1), loc='upper left', prop={'size': 11})`"
   ]
  },
  {
   "cell_type": "code",
   "execution_count": null,
   "metadata": {
    "deletable": false,
    "nbgrader": {
     "cell_type": "code",
     "checksum": "b51dddef66d43a57ab85c0f4d1487c62",
     "grade": false,
     "grade_id": "plot-data-discharge",
     "locked": false,
     "schema_version": 3,
     "solution": true,
     "task": false
    }
   },
   "outputs": [],
   "source": [
    "# Add Your Plot Code Here\n",
    "# Add any cells above that you need to process your data\n",
    "\n",
    "# YOUR CODE HERE\n",
    "raise NotImplementedError()\n",
    "\n",
    "### DO NOT REMOVE LINE BELOW ###\n",
    "co_streams_plot = nb.convert_axes(plt, which_axes=\"all\")"
   ]
  },
  {
   "cell_type": "code",
   "execution_count": null,
   "metadata": {
    "deletable": false,
    "editable": false,
    "nbgrader": {
     "cell_type": "code",
     "checksum": "075139e442214f654e19fc4ce73a8459",
     "grade": true,
     "grade_id": "plot-discharge-test-1",
     "locked": true,
     "points": 0,
     "schema_version": 3,
     "solution": false,
     "task": false
    }
   },
   "outputs": [],
   "source": [
    "# DO NOT MODIFY THIS CELL"
   ]
  },
  {
   "cell_type": "code",
   "execution_count": null,
   "metadata": {
    "deletable": false,
    "editable": false,
    "nbgrader": {
     "cell_type": "code",
     "checksum": "511d6006294e2c8f46b1f55a46af499f",
     "grade": true,
     "grade_id": "plot-discharge-tests-2",
     "locked": true,
     "points": 30,
     "schema_version": 3,
     "solution": false,
     "task": false
    }
   },
   "outputs": [],
   "source": [
    "# DO NOT MODIFY THIS CELL"
   ]
  },
  {
   "cell_type": "markdown",
   "metadata": {
    "deletable": false,
    "editable": false,
    "nbgrader": {
     "cell_type": "markdown",
     "checksum": "557debee4c6948f9fdd86eecf8cf6322",
     "grade": false,
     "grade_id": "manual-grading-plot-2",
     "locked": true,
     "points": 20,
     "schema_version": 3,
     "solution": false,
     "task": true
    }
   },
   "source": [
    "### Manual Grading for Plot 2\n",
    "\n",
    "- Plots have appropriate titles\n",
    "- Plots have appropriate x and y labels\n",
    "- Each line is a unique color\n",
    "- Legend has appropriate key words and is displayed correctly"
   ]
  },
  {
   "cell_type": "markdown",
   "metadata": {
    "deletable": false,
    "editable": false,
    "nbgrader": {
     "cell_type": "markdown",
     "checksum": "c4eb72f2bfebdfb2c055d56a3d0519a8",
     "grade": false,
     "grade_id": "folium-instructions",
     "locked": true,
     "schema_version": 3,
     "solution": false,
     "task": false
    }
   },
   "source": [
    "## Figure 3: Stream Gage Locations Interactive Map\n",
    "\n",
    "Create an interactive `folium` that shows the 4 stream gage locations that \n",
    "you downloaded data for above. BONUS: Add a popup to the map with the \n",
    "gage site name in it.\n",
    "\n",
    "You can use the code below to get a start on creating the interactive map.\n",
    "\n",
    "```\n",
    "m = folium.Map(location=[39.0150, -105.2705],\n",
    "               tiles='Stamen Terrain',\n",
    "               zoom_start=7)\n",
    "\n",
    "\n",
    "for name, xy in gages_dataframe_name_here.groupby([\"name_column\"]):\n",
    "    folium.Marker(\n",
    "        location=[xy.lat[0], xy.long[0]],\n",
    "        popup=name, \n",
    "        icon=folium.Icon()\n",
    "    ).add_to(m)\n",
    "```"
   ]
  },
  {
   "cell_type": "code",
   "execution_count": null,
   "metadata": {
    "deletable": false,
    "nbgrader": {
     "cell_type": "code",
     "checksum": "f34f1d6edfe99171198b46074f4bf04a",
     "grade": false,
     "grade_id": "folium-solution",
     "locked": false,
     "schema_version": 3,
     "solution": true,
     "task": false
    }
   },
   "outputs": [],
   "source": [
    "# Add your code to create a folium map here\n",
    "# YOUR CODE HERE\n",
    "raise NotImplementedError()"
   ]
  },
  {
   "cell_type": "markdown",
   "metadata": {
    "deletable": false,
    "editable": false,
    "nbgrader": {
     "cell_type": "markdown",
     "checksum": "352d8bd833a82e930829300a8a8bb8ff",
     "grade": false,
     "grade_id": "cell-eef9b0a13aa3aaab",
     "locked": true,
     "points": 20,
     "schema_version": 3,
     "solution": false,
     "task": true
    }
   },
   "source": [
    "## Manual Grade: Folium Stream Gage Location Plot\n",
    "\n",
    "* Interactive folium map is created above with a basemap of the students choice (10 points)\n",
    "* Plot contains 4 stream gage locations in the correct place (10 points)\n",
    "* BONUS: Plot contains a popup box with the site name in it (5 points)\n",
    "\n",
    "NOTE: just in case you were wondering... the USGS  does spell stream gage (**gage** not **guage**).\n",
    "We follow their spelling lead in our assignments and lessons."
   ]
  },
  {
   "cell_type": "markdown",
   "metadata": {
    "deletable": false,
    "editable": false,
    "nbgrader": {
     "cell_type": "markdown",
     "checksum": "470b56f261fa662583e2df48ff1bc4ad",
     "grade": false,
     "grade_id": "requirements",
     "locked": true,
     "points": 30,
     "schema_version": 3,
     "solution": false,
     "task": true
    }
   },
   "source": [
    "## Manual Grade: Clean Code Requirements (30 points)\n",
    "In this cell, we will give you points for the following\n",
    "\n",
    "* Notebook uses loops and functions to make code more efficient and clean\n",
    "  * Notebook uses loops to plot rather than manually creating each axis \n",
    "* Notebook uses DRY approaches (don't repeat yourself) to avoid \"copy pasta\" style repetitive code\n"
   ]
  },
  {
   "cell_type": "markdown",
   "metadata": {
    "deletable": false,
    "editable": false,
    "nbgrader": {
     "cell_type": "markdown",
     "checksum": "edcd8afabf900067dbdef455815d3d5d",
     "grade": false,
     "grade_id": "cell-736dbb0bd238d72a",
     "locked": true,
     "points": 20,
     "schema_version": 3,
     "solution": false,
     "task": true
    }
   },
   "source": [
    "## Manual Grade: Markdown Cells Are Used to Organization Code\n",
    "\n",
    "* Markdown cells are used to organize code (5)\n",
    "* Patterns observed in each figure are described in a markdown cell below that figure (15)"
   ]
  },
  {
   "cell_type": "markdown",
   "metadata": {
    "deletable": false,
    "editable": false,
    "nbgrader": {
     "cell_type": "markdown",
     "checksum": "69bbd1154168f77fe86e7ecc6ba8a141",
     "grade": false,
     "grade_id": "pep-8-grade",
     "locked": true,
     "points": 10,
     "schema_version": 3,
     "solution": false,
     "task": true
    }
   },
   "source": [
    "## Manual Grade: Pep 8, Spelling and Does the Notebook Run?\n",
    "In this cell, we will give you points for the following\n",
    "\n",
    "1. PEP 8 is followed throughout the notebook \n",
    "2. Spelling and grammar are considered in your written responses above\n",
    "3. The notebook runs from top to bottom without any editing (it is reproducible)"
   ]
  }
 ],
 "metadata": {
  "kernelspec": {
   "display_name": "Python 3",
   "language": "python",
   "name": "python3"
  },
  "language_info": {
   "codemirror_mode": {
    "name": "ipython",
    "version": 3
   },
   "file_extension": ".py",
   "mimetype": "text/x-python",
   "name": "python",
   "nbconvert_exporter": "python",
   "pygments_lexer": "ipython3",
   "version": "3.8.5"
  },
  "toc": {
   "base_numbering": 1,
   "nav_menu": {},
   "number_sections": true,
   "sideBar": true,
   "skip_h1_title": true,
   "title_cell": "Table of Contents",
   "title_sidebar": "Contents",
   "toc_cell": false,
   "toc_position": {},
   "toc_section_display": true,
   "toc_window_display": true
  },
  "varInspector": {
   "cols": {
    "lenName": 16,
    "lenType": 16,
    "lenVar": 40
   },
   "kernels_config": {
    "python": {
     "delete_cmd_postfix": "",
     "delete_cmd_prefix": "del ",
     "library": "var_list.py",
     "varRefreshCmd": "print(var_dic_list())"
    },
    "r": {
     "delete_cmd_postfix": ") ",
     "delete_cmd_prefix": "rm(",
     "library": "var_list.r",
     "varRefreshCmd": "cat(var_dic_list()) "
    }
   },
   "types_to_exclude": [
    "module",
    "function",
    "builtin_function_or_method",
    "instance",
    "_Feature"
   ],
   "window_display": false
  }
 },
 "nbformat": 4,
 "nbformat_minor": 2
}
